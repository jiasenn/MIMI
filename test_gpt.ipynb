{
 "cells": [
  {
   "cell_type": "markdown",
   "metadata": {},
   "source": [
    "refer to this for installation https://github.com/abetlen/llama-cpp-python#installation-with-openblas--cublas--clblast--metal "
   ]
  },
  {
   "cell_type": "code",
   "execution_count": 2,
   "metadata": {},
   "outputs": [
    {
     "name": "stdout",
     "output_type": "stream",
     "text": [
      "Requirement already satisfied: llama_index in c:\\users\\user\\downloads\\github\\mimi\\.venv\\lib\\site-packages (0.8.53.post3)\n",
      "Requirement already satisfied: SQLAlchemy>=1.4.49 in c:\\users\\user\\downloads\\github\\mimi\\.venv\\lib\\site-packages (from SQLAlchemy[asyncio]>=1.4.49->llama_index) (2.0.22)\n",
      "Requirement already satisfied: aiostream<0.6.0,>=0.5.2 in c:\\users\\user\\downloads\\github\\mimi\\.venv\\lib\\site-packages (from llama_index) (0.5.2)\n",
      "Requirement already satisfied: dataclasses-json<0.6.0,>=0.5.7 in c:\\users\\user\\downloads\\github\\mimi\\.venv\\lib\\site-packages (from llama_index) (0.5.14)\n",
      "Requirement already satisfied: deprecated>=1.2.9.3 in c:\\users\\user\\downloads\\github\\mimi\\.venv\\lib\\site-packages (from llama_index) (1.2.14)\n",
      "Requirement already satisfied: fsspec>=2023.5.0 in c:\\users\\user\\downloads\\github\\mimi\\.venv\\lib\\site-packages (from llama_index) (2023.10.0)\n",
      "Requirement already satisfied: langchain>=0.0.303 in c:\\users\\user\\downloads\\github\\mimi\\.venv\\lib\\site-packages (from llama_index) (0.0.324)\n",
      "Requirement already satisfied: nest-asyncio<2.0.0,>=1.5.8 in c:\\users\\user\\downloads\\github\\mimi\\.venv\\lib\\site-packages (from llama_index) (1.5.8)\n",
      "Requirement already satisfied: nltk<4.0.0,>=3.8.1 in c:\\users\\user\\downloads\\github\\mimi\\.venv\\lib\\site-packages (from llama_index) (3.8.1)\n",
      "Requirement already satisfied: numpy in c:\\users\\user\\downloads\\github\\mimi\\.venv\\lib\\site-packages (from llama_index) (1.26.1)\n",
      "Requirement already satisfied: openai>=0.26.4 in c:\\users\\user\\downloads\\github\\mimi\\.venv\\lib\\site-packages (from llama_index) (0.28.1)\n",
      "Requirement already satisfied: pandas in c:\\users\\user\\downloads\\github\\mimi\\.venv\\lib\\site-packages (from llama_index) (2.1.2)\n",
      "Requirement already satisfied: tenacity<9.0.0,>=8.2.0 in c:\\users\\user\\downloads\\github\\mimi\\.venv\\lib\\site-packages (from llama_index) (8.2.3)\n",
      "Requirement already satisfied: tiktoken>=0.3.3 in c:\\users\\user\\downloads\\github\\mimi\\.venv\\lib\\site-packages (from llama_index) (0.5.1)\n",
      "Requirement already satisfied: typing-extensions>=4.5.0 in c:\\users\\user\\downloads\\github\\mimi\\.venv\\lib\\site-packages (from llama_index) (4.8.0)\n",
      "Requirement already satisfied: typing-inspect>=0.8.0 in c:\\users\\user\\downloads\\github\\mimi\\.venv\\lib\\site-packages (from llama_index) (0.9.0)\n",
      "Requirement already satisfied: urllib3<2 in c:\\users\\user\\downloads\\github\\mimi\\.venv\\lib\\site-packages (from llama_index) (1.26.18)\n",
      "Requirement already satisfied: marshmallow<4.0.0,>=3.18.0 in c:\\users\\user\\downloads\\github\\mimi\\.venv\\lib\\site-packages (from dataclasses-json<0.6.0,>=0.5.7->llama_index) (3.20.1)\n",
      "Requirement already satisfied: wrapt<2,>=1.10 in c:\\users\\user\\downloads\\github\\mimi\\.venv\\lib\\site-packages (from deprecated>=1.2.9.3->llama_index) (1.15.0)\n",
      "Requirement already satisfied: PyYAML>=5.3 in c:\\users\\user\\downloads\\github\\mimi\\.venv\\lib\\site-packages (from langchain>=0.0.303->llama_index) (6.0.1)\n",
      "Requirement already satisfied: aiohttp<4.0.0,>=3.8.3 in c:\\users\\user\\downloads\\github\\mimi\\.venv\\lib\\site-packages (from langchain>=0.0.303->llama_index) (3.8.6)\n",
      "Requirement already satisfied: anyio<4.0 in c:\\users\\user\\downloads\\github\\mimi\\.venv\\lib\\site-packages (from langchain>=0.0.303->llama_index) (3.7.1)\n",
      "Requirement already satisfied: async-timeout<5.0.0,>=4.0.0 in c:\\users\\user\\downloads\\github\\mimi\\.venv\\lib\\site-packages (from langchain>=0.0.303->llama_index) (4.0.3)\n",
      "Requirement already satisfied: jsonpatch<2.0,>=1.33 in c:\\users\\user\\downloads\\github\\mimi\\.venv\\lib\\site-packages (from langchain>=0.0.303->llama_index) (1.33)\n",
      "Requirement already satisfied: langsmith<0.1.0,>=0.0.52 in c:\\users\\user\\downloads\\github\\mimi\\.venv\\lib\\site-packages (from langchain>=0.0.303->llama_index) (0.0.52)\n",
      "Requirement already satisfied: pydantic<3,>=1 in c:\\users\\user\\downloads\\github\\mimi\\.venv\\lib\\site-packages (from langchain>=0.0.303->llama_index) (2.4.2)\n",
      "Requirement already satisfied: requests<3,>=2 in c:\\users\\user\\downloads\\github\\mimi\\.venv\\lib\\site-packages (from langchain>=0.0.303->llama_index) (2.31.0)\n",
      "Requirement already satisfied: click in c:\\users\\user\\downloads\\github\\mimi\\.venv\\lib\\site-packages (from nltk<4.0.0,>=3.8.1->llama_index) (8.1.7)\n",
      "Requirement already satisfied: joblib in c:\\users\\user\\downloads\\github\\mimi\\.venv\\lib\\site-packages (from nltk<4.0.0,>=3.8.1->llama_index) (1.3.2)\n",
      "Requirement already satisfied: regex>=2021.8.3 in c:\\users\\user\\downloads\\github\\mimi\\.venv\\lib\\site-packages (from nltk<4.0.0,>=3.8.1->llama_index) (2023.10.3)\n",
      "Requirement already satisfied: tqdm in c:\\users\\user\\downloads\\github\\mimi\\.venv\\lib\\site-packages (from nltk<4.0.0,>=3.8.1->llama_index) (4.66.1)\n",
      "Requirement already satisfied: greenlet!=0.4.17 in c:\\users\\user\\downloads\\github\\mimi\\.venv\\lib\\site-packages (from SQLAlchemy>=1.4.49->SQLAlchemy[asyncio]>=1.4.49->llama_index) (3.0.1)\n",
      "Requirement already satisfied: mypy-extensions>=0.3.0 in c:\\users\\user\\downloads\\github\\mimi\\.venv\\lib\\site-packages (from typing-inspect>=0.8.0->llama_index) (1.0.0)\n",
      "Requirement already satisfied: python-dateutil>=2.8.2 in c:\\users\\user\\downloads\\github\\mimi\\.venv\\lib\\site-packages (from pandas->llama_index) (2.8.2)\n",
      "Requirement already satisfied: pytz>=2020.1 in c:\\users\\user\\downloads\\github\\mimi\\.venv\\lib\\site-packages (from pandas->llama_index) (2023.3.post1)\n",
      "Requirement already satisfied: tzdata>=2022.1 in c:\\users\\user\\downloads\\github\\mimi\\.venv\\lib\\site-packages (from pandas->llama_index) (2023.3)\n",
      "Requirement already satisfied: attrs>=17.3.0 in c:\\users\\user\\downloads\\github\\mimi\\.venv\\lib\\site-packages (from aiohttp<4.0.0,>=3.8.3->langchain>=0.0.303->llama_index) (23.1.0)\n",
      "Requirement already satisfied: charset-normalizer<4.0,>=2.0 in c:\\users\\user\\downloads\\github\\mimi\\.venv\\lib\\site-packages (from aiohttp<4.0.0,>=3.8.3->langchain>=0.0.303->llama_index) (3.3.1)\n",
      "Requirement already satisfied: multidict<7.0,>=4.5 in c:\\users\\user\\downloads\\github\\mimi\\.venv\\lib\\site-packages (from aiohttp<4.0.0,>=3.8.3->langchain>=0.0.303->llama_index) (6.0.4)\n",
      "Requirement already satisfied: yarl<2.0,>=1.0 in c:\\users\\user\\downloads\\github\\mimi\\.venv\\lib\\site-packages (from aiohttp<4.0.0,>=3.8.3->langchain>=0.0.303->llama_index) (1.9.2)\n",
      "Requirement already satisfied: frozenlist>=1.1.1 in c:\\users\\user\\downloads\\github\\mimi\\.venv\\lib\\site-packages (from aiohttp<4.0.0,>=3.8.3->langchain>=0.0.303->llama_index) (1.4.0)\n",
      "Requirement already satisfied: aiosignal>=1.1.2 in c:\\users\\user\\downloads\\github\\mimi\\.venv\\lib\\site-packages (from aiohttp<4.0.0,>=3.8.3->langchain>=0.0.303->llama_index) (1.3.1)\n",
      "Requirement already satisfied: idna>=2.8 in c:\\users\\user\\downloads\\github\\mimi\\.venv\\lib\\site-packages (from anyio<4.0->langchain>=0.0.303->llama_index) (3.4)\n",
      "Requirement already satisfied: sniffio>=1.1 in c:\\users\\user\\downloads\\github\\mimi\\.venv\\lib\\site-packages (from anyio<4.0->langchain>=0.0.303->llama_index) (1.3.0)\n",
      "Requirement already satisfied: exceptiongroup in c:\\users\\user\\downloads\\github\\mimi\\.venv\\lib\\site-packages (from anyio<4.0->langchain>=0.0.303->llama_index) (1.1.3)\n",
      "Requirement already satisfied: jsonpointer>=1.9 in c:\\users\\user\\downloads\\github\\mimi\\.venv\\lib\\site-packages (from jsonpatch<2.0,>=1.33->langchain>=0.0.303->llama_index) (2.4)\n",
      "Requirement already satisfied: packaging>=17.0 in c:\\users\\user\\downloads\\github\\mimi\\.venv\\lib\\site-packages (from marshmallow<4.0.0,>=3.18.0->dataclasses-json<0.6.0,>=0.5.7->llama_index) (23.2)\n",
      "Requirement already satisfied: annotated-types>=0.4.0 in c:\\users\\user\\downloads\\github\\mimi\\.venv\\lib\\site-packages (from pydantic<3,>=1->langchain>=0.0.303->llama_index) (0.6.0)\n",
      "Requirement already satisfied: pydantic-core==2.10.1 in c:\\users\\user\\downloads\\github\\mimi\\.venv\\lib\\site-packages (from pydantic<3,>=1->langchain>=0.0.303->llama_index) (2.10.1)\n",
      "Requirement already satisfied: six>=1.5 in c:\\users\\user\\downloads\\github\\mimi\\.venv\\lib\\site-packages (from python-dateutil>=2.8.2->pandas->llama_index) (1.16.0)\n",
      "Requirement already satisfied: certifi>=2017.4.17 in c:\\users\\user\\downloads\\github\\mimi\\.venv\\lib\\site-packages (from requests<3,>=2->langchain>=0.0.303->llama_index) (2023.7.22)\n",
      "Requirement already satisfied: colorama in c:\\users\\user\\downloads\\github\\mimi\\.venv\\lib\\site-packages (from click->nltk<4.0.0,>=3.8.1->llama_index) (0.4.6)\n",
      "Note: you may need to restart the kernel to use updated packages.\n"
     ]
    },
    {
     "name": "stderr",
     "output_type": "stream",
     "text": [
      "WARNING: There was an error checking the latest version of pip.\n"
     ]
    },
    {
     "name": "stdout",
     "output_type": "stream",
     "text": [
      "Requirement already satisfied: llama-cpp-python in c:\\users\\user\\downloads\\github\\mimi\\.venv\\lib\\site-packages (0.2.11)\n",
      "Requirement already satisfied: typing-extensions>=4.5.0 in c:\\users\\user\\downloads\\github\\mimi\\.venv\\lib\\site-packages (from llama-cpp-python) (4.8.0)\n",
      "Requirement already satisfied: numpy>=1.20.0 in c:\\users\\user\\downloads\\github\\mimi\\.venv\\lib\\site-packages (from llama-cpp-python) (1.26.1)\n",
      "Requirement already satisfied: diskcache>=5.6.1 in c:\\users\\user\\downloads\\github\\mimi\\.venv\\lib\\site-packages (from llama-cpp-python) (5.6.3)\n",
      "Note: you may need to restart the kernel to use updated packages.\n"
     ]
    },
    {
     "name": "stderr",
     "output_type": "stream",
     "text": [
      "WARNING: There was an error checking the latest version of pip.\n"
     ]
    },
    {
     "name": "stdout",
     "output_type": "stream",
     "text": [
      "Requirement already satisfied: transformers in c:\\users\\user\\downloads\\github\\mimi\\.venv\\lib\\site-packages (4.34.1)\n",
      "Requirement already satisfied: filelock in c:\\users\\user\\downloads\\github\\mimi\\.venv\\lib\\site-packages (from transformers) (3.12.4)\n",
      "Requirement already satisfied: huggingface-hub<1.0,>=0.16.4 in c:\\users\\user\\downloads\\github\\mimi\\.venv\\lib\\site-packages (from transformers) (0.17.3)\n",
      "Requirement already satisfied: numpy>=1.17 in c:\\users\\user\\downloads\\github\\mimi\\.venv\\lib\\site-packages (from transformers) (1.26.1)\n",
      "Requirement already satisfied: packaging>=20.0 in c:\\users\\user\\downloads\\github\\mimi\\.venv\\lib\\site-packages (from transformers) (23.2)\n",
      "Requirement already satisfied: pyyaml>=5.1 in c:\\users\\user\\downloads\\github\\mimi\\.venv\\lib\\site-packages (from transformers) (6.0.1)\n",
      "Requirement already satisfied: regex!=2019.12.17 in c:\\users\\user\\downloads\\github\\mimi\\.venv\\lib\\site-packages (from transformers) (2023.10.3)\n",
      "Requirement already satisfied: requests in c:\\users\\user\\downloads\\github\\mimi\\.venv\\lib\\site-packages (from transformers) (2.31.0)\n",
      "Requirement already satisfied: tokenizers<0.15,>=0.14 in c:\\users\\user\\downloads\\github\\mimi\\.venv\\lib\\site-packages (from transformers) (0.14.1)\n",
      "Requirement already satisfied: safetensors>=0.3.1 in c:\\users\\user\\downloads\\github\\mimi\\.venv\\lib\\site-packages (from transformers) (0.4.0)\n",
      "Requirement already satisfied: tqdm>=4.27 in c:\\users\\user\\downloads\\github\\mimi\\.venv\\lib\\site-packages (from transformers) (4.66.1)\n",
      "Requirement already satisfied: fsspec in c:\\users\\user\\downloads\\github\\mimi\\.venv\\lib\\site-packages (from huggingface-hub<1.0,>=0.16.4->transformers) (2023.10.0)\n",
      "Requirement already satisfied: typing-extensions>=3.7.4.3 in c:\\users\\user\\downloads\\github\\mimi\\.venv\\lib\\site-packages (from huggingface-hub<1.0,>=0.16.4->transformers) (4.8.0)\n",
      "Requirement already satisfied: colorama in c:\\users\\user\\downloads\\github\\mimi\\.venv\\lib\\site-packages (from tqdm>=4.27->transformers) (0.4.6)\n",
      "Requirement already satisfied: charset-normalizer<4,>=2 in c:\\users\\user\\downloads\\github\\mimi\\.venv\\lib\\site-packages (from requests->transformers) (3.3.1)\n",
      "Requirement already satisfied: idna<4,>=2.5 in c:\\users\\user\\downloads\\github\\mimi\\.venv\\lib\\site-packages (from requests->transformers) (3.4)\n",
      "Requirement already satisfied: urllib3<3,>=1.21.1 in c:\\users\\user\\downloads\\github\\mimi\\.venv\\lib\\site-packages (from requests->transformers) (1.26.18)\n",
      "Requirement already satisfied: certifi>=2017.4.17 in c:\\users\\user\\downloads\\github\\mimi\\.venv\\lib\\site-packages (from requests->transformers) (2023.7.22)\n",
      "Note: you may need to restart the kernel to use updated packages.\n"
     ]
    },
    {
     "name": "stderr",
     "output_type": "stream",
     "text": [
      "WARNING: There was an error checking the latest version of pip.\n"
     ]
    },
    {
     "name": "stdout",
     "output_type": "stream",
     "text": [
      "Requirement already satisfied: torch in c:\\users\\user\\downloads\\github\\mimi\\.venv\\lib\\site-packages (2.1.0+cu118)\n",
      "Requirement already satisfied: filelock in c:\\users\\user\\downloads\\github\\mimi\\.venv\\lib\\site-packages (from torch) (3.12.4)\n",
      "Requirement already satisfied: typing-extensions in c:\\users\\user\\downloads\\github\\mimi\\.venv\\lib\\site-packages (from torch) (4.8.0)\n",
      "Requirement already satisfied: sympy in c:\\users\\user\\downloads\\github\\mimi\\.venv\\lib\\site-packages (from torch) (1.12)\n",
      "Requirement already satisfied: networkx in c:\\users\\user\\downloads\\github\\mimi\\.venv\\lib\\site-packages (from torch) (3.2)\n",
      "Requirement already satisfied: jinja2 in c:\\users\\user\\downloads\\github\\mimi\\.venv\\lib\\site-packages (from torch) (3.1.2)\n",
      "Requirement already satisfied: fsspec in c:\\users\\user\\downloads\\github\\mimi\\.venv\\lib\\site-packages (from torch) (2023.10.0)\n",
      "Requirement already satisfied: MarkupSafe>=2.0 in c:\\users\\user\\downloads\\github\\mimi\\.venv\\lib\\site-packages (from jinja2->torch) (2.1.3)\n",
      "Requirement already satisfied: mpmath>=0.19 in c:\\users\\user\\downloads\\github\\mimi\\.venv\\lib\\site-packages (from sympy->torch) (1.3.0)\n",
      "Note: you may need to restart the kernel to use updated packages.\n"
     ]
    },
    {
     "name": "stderr",
     "output_type": "stream",
     "text": [
      "WARNING: There was an error checking the latest version of pip.\n"
     ]
    },
    {
     "name": "stdout",
     "output_type": "stream",
     "text": [
      "Requirement already satisfied: tqdm in c:\\users\\user\\downloads\\github\\mimi\\.venv\\lib\\site-packages (4.66.1)\n",
      "Requirement already satisfied: colorama in c:\\users\\user\\downloads\\github\\mimi\\.venv\\lib\\site-packages (from tqdm) (0.4.6)\n",
      "Note: you may need to restart the kernel to use updated packages.\n"
     ]
    },
    {
     "name": "stderr",
     "output_type": "stream",
     "text": [
      "WARNING: There was an error checking the latest version of pip.\n"
     ]
    }
   ],
   "source": [
    "# Uncomment to install dependencies\n",
    "%pip install llama_index\n",
    "%pip install llama-cpp-python\n",
    "%pip install transformers\n",
    "%pip install torch\n",
    "%pip install tqdm\n"
   ]
  },
  {
   "cell_type": "code",
   "execution_count": 1,
   "metadata": {},
   "outputs": [
    {
     "name": "stderr",
     "output_type": "stream",
     "text": [
      "AVX = 1 | AVX2 = 1 | AVX512 = 0 | AVX512_VBMI = 0 | AVX512_VNNI = 0 | FMA = 1 | NEON = 0 | ARM_FMA = 0 | F16C = 1 | FP16_VA = 0 | WASM_SIMD = 0 | BLAS = 0 | SSE3 = 1 | SSSE3 = 0 | VSX = 0 | \n"
     ]
    }
   ],
   "source": [
    "import logging\n",
    "import sys\n",
    "\n",
    "from llama_index.callbacks import CallbackManager, LlamaDebugHandler\n",
    "from llama_index.llms import LlamaCPP\n",
    "from llama_index.llms.llama_utils import messages_to_prompt, completion_to_prompt\n",
    "\n",
    "logging.basicConfig(stream=sys.stdout, level=logging.INFO)  # Change INFO to DEBUG if you want more extensive logging\n",
    "logging.getLogger().addHandler(logging.StreamHandler(stream=sys.stdout))\n",
    "\n",
    "llama_debug = LlamaDebugHandler(print_trace_on_end=True)\n",
    "callback_manager = CallbackManager([llama_debug])\n",
    "\n",
    "llm = LlamaCPP(\n",
    "    model_url=\"https://huggingface.co/TheBloke/Llama-2-13B-chat-GGUF/resolve/main/llama-2-13b-chat.Q5_K_M.gguf\",\n",
    "    \n",
    "    # optionally, you can set the path to a pre-downloaded model instead of model_url\n",
    "    model_path=None,\n",
    "    \n",
    "    temperature=0.0,\n",
    "    max_new_tokens=1024,\n",
    "    \n",
    "    # llama2 has a context window of 4096 tokens, but we set it lower to allow for some wiggle room\n",
    "    context_window=3900,  # note, this sets n_ctx in the model_kwargs below, so you don't need to pass it there.\n",
    "    \n",
    "    # kwargs to pass to __call__()\n",
    "    generate_kwargs={},\n",
    "    \n",
    "    # kwargs to pass to __init__()\n",
    "    # set to at least 1 to use GPU\n",
    "    model_kwargs={\"n_gpu_layers\": 4}, # I need to play with this and see if it actually helps\n",
    "    \n",
    "    # transform inputs into Llama2 format\n",
    "    messages_to_prompt=messages_to_prompt,\n",
    "    completion_to_prompt=completion_to_prompt,\n",
    "    verbose=True,\n",
    ")"
   ]
  },
  {
   "cell_type": "code",
   "execution_count": 3,
   "metadata": {},
   "outputs": [
    {
     "name": "stderr",
     "output_type": "stream",
     "text": [
      "c:\\Users\\User\\Downloads\\Github\\MIMI\\.venv\\lib\\site-packages\\tqdm\\auto.py:21: TqdmWarning: IProgress not found. Please update jupyter and ipywidgets. See https://ipywidgets.readthedocs.io/en/stable/user_install.html\n",
      "  from .autonotebook import tqdm as notebook_tqdm\n"
     ]
    },
    {
     "name": "stdout",
     "output_type": "stream",
     "text": [
      "**********\n",
      "Trace: index_construction\n",
      "    |_node_parsing ->  0.062839 seconds\n",
      "      |_chunking ->  0.0 seconds\n",
      "      |_chunking ->  0.000998 seconds\n",
      "      |_chunking ->  0.000997 seconds\n",
      "      |_chunking ->  0.000999 seconds\n",
      "      |_chunking ->  0.000996 seconds\n",
      "      |_chunking ->  0.000997 seconds\n",
      "      |_chunking ->  0.000998 seconds\n",
      "      |_chunking ->  0.000992 seconds\n",
      "      |_chunking ->  0.001996 seconds\n",
      "      |_chunking ->  0.001002 seconds\n",
      "      |_chunking ->  0.000997 seconds\n",
      "      |_chunking ->  0.000996 seconds\n",
      "      |_chunking ->  0.0 seconds\n",
      "      |_chunking ->  0.008005 seconds\n",
      "      |_chunking ->  0.005993 seconds\n",
      "      |_chunking ->  0.003984 seconds\n",
      "      |_chunking ->  0.004996 seconds\n",
      "      |_chunking ->  0.006949 seconds\n",
      "      |_chunking ->  0.004987 seconds\n",
      "      |_chunking ->  0.0 seconds\n",
      "      |_chunking ->  0.001993 seconds\n",
      "      |_chunking ->  0.000998 seconds\n",
      "      |_chunking ->  0.000997 seconds\n",
      "      |_chunking ->  0.00399 seconds\n",
      "      |_chunking ->  0.000997 seconds\n",
      "    |_embedding ->  0.416456 seconds\n",
      "    |_embedding ->  0.098739 seconds\n",
      "    |_embedding ->  0.087792 seconds\n",
      "    |_embedding ->  0.034878 seconds\n",
      "**********\n"
     ]
    },
    {
     "data": {
      "text/plain": [
       "<llama_index.indices.vector_store.base.VectorStoreIndex at 0x25a7aa4d690>"
      ]
     },
     "metadata": {},
     "output_type": "display_data"
    }
   ],
   "source": [
    "# Create an index of your documents\n",
    "from llama_index import VectorStoreIndex, SimpleDirectoryReader, ServiceContext\n",
    "\n",
    "storage_directory = \"./storage\"\n",
    "\n",
    "documents = SimpleDirectoryReader('./testdata').load_data()\n",
    "\n",
    "service_context = ServiceContext.from_defaults(llm=llm, chunk_size=1024,\n",
    "                                               embed_model=\"local\",\n",
    "                                               callback_manager=callback_manager)\n",
    "\n",
    "\n",
    "index = VectorStoreIndex.from_documents(documents, service_context=service_context)\n",
    "# Persist the index to disk\n",
    "display(index)\n",
    "index.storage_context.persist(persist_dir=storage_directory)"
   ]
  },
  {
   "cell_type": "code",
   "execution_count": 4,
   "metadata": {},
   "outputs": [
    {
     "name": "stdout",
     "output_type": "stream",
     "text": [
      "INFO:llama_index.indices.loading:Loading all indices.\n",
      "Loading all indices.\n",
      "**********\n",
      "Trace: index_construction\n",
      "**********\n"
     ]
    }
   ],
   "source": [
    "# Now you can load the index from disk when needed, and not rebuild it each time.\n",
    "from llama_index import VectorStoreIndex, SimpleDirectoryReader, ServiceContext\n",
    "from llama_index import StorageContext, load_index_from_storage\n",
    "\n",
    "# transcript_directory = \"transcripts/ancient-aliens-official\"\n",
    "storage_directory = \"./storage\"\n",
    "\n",
    "service_context = ServiceContext.from_defaults(llm=llm, chunk_size=1024,\n",
    "                                               embed_model=\"local\",\n",
    "                                               callback_manager=callback_manager)\n",
    "\n",
    "storage_context = StorageContext.from_defaults(persist_dir=storage_directory)\n",
    "index = load_index_from_storage(storage_context, service_context=service_context)"
   ]
  },
  {
   "cell_type": "code",
   "execution_count": 5,
   "metadata": {},
   "outputs": [
    {
     "name": "stdout",
     "output_type": "stream",
     "text": [
      "**********\n",
      "Trace: query\n",
      "    |_query ->  470.860184 seconds\n",
      "      |_retrieve ->  0.030889 seconds\n",
      "        |_embedding ->  0.029888 seconds\n",
      "      |_synthesize ->  470.827865 seconds\n",
      "        |_templating ->  0.0 seconds\n",
      "        |_llm ->  470.792545 seconds\n",
      "**********\n"
     ]
    },
    {
     "data": {
      "text/markdown": [
       "<b>  Sure, I'd be happy to help! Based on the context information provided, it appears that Samsui women played a more significant role in Singapore's development than coolies. The women worked as manual laborers in construction and other industries, contributing to the country's growth and prosperity. In contrast, coolies were primarily used for their physical strength and were not as integral to Singapore's development as the Samsui women.</b>"
      ],
      "text/plain": [
       "<IPython.core.display.Markdown object>"
      ]
     },
     "metadata": {},
     "output_type": "display_data"
    }
   ],
   "source": [
    "# Query your index!\n",
    "from IPython.display import Markdown, display\n",
    "from llama_index.prompts import PromptTemplate\n",
    "\n",
    "query_engine = index.as_query_engine(service_context=service_context,\n",
    "                                     similarity_top_k=3)\n",
    "\n",
    "# response = query_engine.query(\"What do you think of Facebook's LLaMa?\")\n",
    "# print(response)\n",
    "\n",
    "# query = \"What is the Alien nuclear agenda? \\n\\n\" \\\n",
    "#         \"Please summarize the information into 3 detailed paragraphs, something suitable for a blog post.\"\n",
    "\n",
    "query = \"Samsui women or Coolie more important for Singapore's Development? \\n\\n\" \\\n",
    "        \"Please summarize the information into 3 sentences. Something shorter to read\"\n",
    "\n",
    "response = query_engine.query(query)\n",
    "display(Markdown(f\"<b>{response}</b>\"))"
   ]
  },
  {
   "cell_type": "code",
   "execution_count": 6,
   "metadata": {},
   "outputs": [
    {
     "name": "stderr",
     "output_type": "stream",
     "text": [
      "Llama.generate: prefix-match hit\n"
     ]
    },
    {
     "name": "stdout",
     "output_type": "stream",
     "text": [
      "**********\n",
      "Trace: query\n",
      "    |_query ->  387.776819 seconds\n",
      "      |_retrieve ->  0.424012 seconds\n",
      "        |_embedding ->  0.387111 seconds\n",
      "      |_synthesize ->  387.352807 seconds\n",
      "        |_templating ->  0.0 seconds\n",
      "        |_llm ->  387.297411 seconds\n",
      "**********\n"
     ]
    },
    {
     "data": {
      "text/markdown": [
       "<b>  Based on the provided context, I can provide the following summary of Facebook's LLaMa:\n",
       "\n",
       "LLaMa is a state-of-the-art foundational large language model designed to help researchers advance their work in the subfield of AI. It is trained on a large set of unlabeled data and is ideal for fine-tuning for a variety of tasks, making it a valuable resource for the research community. However, full research access to large language models like LLaMa remains limited due to the resources required to train and run such models, which hinders progress on efforts to improve their robustness and mitigate known issues.</b>"
      ],
      "text/plain": [
       "<IPython.core.display.Markdown object>"
      ]
     },
     "metadata": {},
     "output_type": "display_data"
    }
   ],
   "source": [
    "# Query your index!\n",
    "from IPython.display import Markdown, display\n",
    "from llama_index.prompts import PromptTemplate\n",
    "\n",
    "query_engine = index.as_query_engine(service_context=service_context,\n",
    "                                     similarity_top_k=3)\n",
    "\n",
    "# response = query_engine.query(\"What do you think of Facebook's LLaMa?\")\n",
    "# print(response)\n",
    "\n",
    "# query = \"What is the Alien nuclear agenda? \\n\\n\" \\\n",
    "#         \"Please summarize the information into 3 detailed paragraphs, something suitable for a blog post.\"\n",
    "\n",
    "query = \"What do you think of Facebook's LLaMa? \\n\\n\" \\\n",
    "        \"Please summarize the information into 3 sentences, something suitable for a tweet.\"\n",
    "\n",
    "response = query_engine.query(query)\n",
    "display(Markdown(f\"<b>{response}</b>\"))"
   ]
  },
  {
   "cell_type": "code",
   "execution_count": 7,
   "metadata": {},
   "outputs": [
    {
     "data": {
      "text/plain": [
       "[Document(id_='65444221-3990-42c8-8499-f30d22648f8b', embedding=None, metadata={}, excluded_embed_metadata_keys=[], excluded_llm_metadata_keys=[], relationships={}, hash='112d037b39cf02ff4ca88a4207c4518d2675ed5023a611f6da89acf7a44fdccf', text='Samsung Group, or simply Samsung (Korean: 삼성; RR: samseong [samsʌŋ]) (stylized as SΛMSUNG), is a South Korean multinational manufacturing conglomerate headquartered in Samsung Digital City, Suwon, South Korea. It comprises numerous affiliated businesses, most of them united under the Samsung brand, and is the largest South Korean chaebol (business conglomerate). As of 2020, Samsung has the eighth highest global brand value.Samsung was founded by Lee Byung-chul in 1938 as a trading company. Over the next three decades, the group diversified into areas including food processing, textiles, insurance, securities, and retail. Samsung entered the electronics industry in the late 1960s and the construction and shipbuilding industries in the mid-1970s; these areas would drive its subsequent growth. Following Lee\\'s death in 1987, Samsung was separated into five business groups – Samsung Group, Shinsegae Group, CJ Group and Hansol Group, and JoongAng Group.\\nNotable Samsung industrial affiliates include Samsung Electronics (the world\\'s largest information technology company, consumer electronics maker and chipmaker measured by 2017 revenues), Samsung Heavy Industries (the world\\'s second largest shipbuilder measured by 2010 revenues), and Samsung Engineering and Samsung C&T Corporation (respectively the world\\'s 13th and 36th largest construction companies). Other notable subsidiaries include Samsung Life Insurance (the world\\'s 14th largest life insurance company), Samsung Everland (operator of Everland Resort, the oldest theme park in South Korea) and Cheil Worldwide (the world\\'s 15th largest advertising agency, as measured by 2012 revenues).\\n\\n\\n== Meaning of the name ==\\nAccording to Samsung\\'s founder, the meaning of the Korean hanja Samsung (三星) is three stars. The three stands for something big, numerous and powerful, while stars stands for everlasting or eternal.\\n\\n\\n== History ==\\n\\n\\n=== 1938–1970 ===\\nIn 1938, during Japanese-ruled Korea, Lee Byung-chul (1910–1987) of a large landowning family in the Uiryeong county moved to nearby Daegu city and founded Mitsuboshi Trading Company (株式会社三星商会 (Kabushiki gaisha Mitsuboshi Shōkai)), or Samsung Sanghoe (주식회사 삼성상회). Samsung started out as a small trading company with forty employees located in Su-dong (now Ingyo-dong). It dealt in dried-fish, locally-grown groceries and noodles. The company prospered and Lee moved its head office to Seoul in 1947. When the Korean War broke out, he was forced to leave Seoul. He started a sugar refinery in Busan named Cheil Jedang. In 1954, Lee founded Cheil Mojik and built the plant in Chimsan-dong, Daegu. It was the largest woollen mill ever in the country.Samsung diversified into many different areas. Lee sought to establish Samsung as a leader in a wide range of industries. Samsung moved into lines of business such as insurance, securities, and retail.\\nIn 1947, Cho Hong-jai, the Hyosung group\\'s founder, jointly invested in a new company called Samsung Mulsan Gongsa, or the Samsung Trading Corporation, with the Samsung\\'s founder Lee Byung-chul. The trading firm grew to become the present-day Samsung C&T Corporation. After a few years, Cho and Lee separated due to differences in management style. Cho wanted a 30 equity share. Samsung Group was separated into Samsung Group and Hyosung Group, Hankook Tire and other businesses.In the late 1960s, Samsung Group entered the electronics industry. It formed several electronics-related divisions, such as Samsung Electronics Devices, Samsung Electro-Mechanics, Samsung Corning and Samsung Semiconductor & Telecommunications, and opened the facility in Suwon. Its first product was a black-and-white television set.\\n\\n\\n=== 1970–1990 ===\\nIn 1980, Samsung acquired the Gumi-based Hanguk Jeonja Tongsin and entered telecommunications hardware. Its early products were switchboards. The facility was developed into the telephone and fax manufacturing systems and became the center of Samsung\\'s mobile phone manufacturing. They have produced over 800 million mobile phones to date. The company grouped them together under Samsung Electronics in the 1980s.\\nAfter Lee, the founder\\'s death in 1987, Samsung Group was separated into five business groups –  Samsung Group, Shinsegae Group, CJ Group, Hansol Group and the JoongAng Group. Shinsegae (discount store, department store) was originally part of Samsung Group, separated in the 1990s from the Samsung Group along with CJ Group (Food/Chemicals/Entertainment/logistics), Hansol Group (Paper/Telecom), and the JoongAng Group (Media). Today these separated groups are independent and they are not part of or connected to the Samsung Group. One Hansol Group representative said, \"Only people ignorant of the laws governing the business world could believe something so absurd\", adding, \"When Hansol separated from the Samsung Group in 1991, it severed all payment guarantees and share-holding ties with Samsung affiliates.\" One Hansol Group source asserted, \"Hansol, Shinsegae, and CJ have been under independent management since their respective separations from the Samsung Group\". One Shinsegae department store executive director said, \"Shinsegae has no payment guarantees associated with the Samsung Group\".In the 1980s, Samsung Electronics began to invest heavily in research and development, investments that were pivotal in pushing the company to the forefront of the global electronics industry. In 1982, it built a television assembly plant in Portugal; in 1984, a plant in New York; in 1985, a plant in Tokyo; in 1987, a facility in England; and another facility in Austin, Texas, in 1996. As of 2012, Samsung has invested more than US$13,000,000,000 in the Austin facility, which operates under the name Samsung Austin Semiconductor. This makes the Austin location the largest foreign investment in Texas and one of the largest single foreign investments in the United States.In 1987, United States International Trade Commission found that the Samsung Group of South Korea unlawfully sold computer chips in the United States without licenses from the chip inventor, Texas Instruments Inc.\\n\\n\\n=== 1990–2000 ===\\nSince 1990, Samsung has increasingly globalised its activities and electronics; in particular, its mobile phones and semiconductors have become its most important source of income. It was in this period that Samsung started to rise as an international corporation in the 1990s. Samsung\\'s construction branch was awarded contracts to build one of the two Petronas Towers in Malaysia, Taipei 101 in Taiwan and the Burj Khalifa in United Arab Emirates. In 1993, Lee Kun-hee sold off ten of Samsung Group\\'s subsidiaries, downsized the company, and merged other operations to concentrate on three industries: electronics, engineering and chemicals. In 1996, the Samsung Group reacquired the Sungkyunkwan University foundation.Samsung became the world\\'s largest producer of memory chips in 1992 and is the world\\'s second-largest chipmaker after Intel (see Worldwide Top 20 Semiconductor Market Share Ranking Year by Year). In 1995, it created its first liquid-crystal display screen. Ten years later, Samsung grew to be the world\\'s largest manufacturer of liquid-crystal display panels. Sony, which had not invested in large-size TFT-LCDs, contacted Samsung to cooperate, and, in 2006, S-LCD was established as a joint venture between Samsung and Sony in order to provide a stable supply of LCD panels for both manufacturers. S-LCD was owned by Samsung (50% plus one share) and Sony (50% minus one share) and operates its factories and facilities in Tanjung, South Korea. As of 26 December 2011, it was announced that Samsung had acquired the stake of Sony in this joint venture.Compared to other major Korean companies, Samsung survived the 1997 Asian financial crisis relatively unharmed. However, Samsung Motor was sold to Renault at a significant loss. As of 2010, Renault Samsung is 80.1 per cent owned by Renault and 19.9 per cent owned by Samsung. Additionally, Samsung manufactured a range of aircraft from the 1980s to the 1990s. The company was founded in 1999 as Korea Aerospace Industries (KAI), the result of a merger between then three domestic major aerospace divisions of Samsung Aerospace, Daewoo Heavy Industries and Hyundai Space and Aircraft Company. However, Samsung still manufactures aircraft engines and gas turbines.\\n\\n\\n=== 2000–present ===\\nIn 2000, Samsung opened a development center in Warsaw, Poland. Its work began with set-top-box technology before moving into digital TV and smartphones. The smartphone platform was developed with partners, officially launched with the original Samsung Solstice line of devices and other derivatives in 2008, which was later developed into Samsung Galaxy line of devices including Notes, Edge and other products.\\n\\nIn 2007, former Samsung chief lawyer Kim Yong Chul claimed that he was involved in bribing and fabricating evidence on behalf of the group\\'s chairman, Lee Kun-hee, and the company. Kim said that Samsung lawyers trained executives to serve as scapegoats in a \"fabricated scenario\" to protect Lee, even though those executives were not involved. Kim also told the media that he was \"sidelined\" by Samsung after he refused to pay a $3.3 million bribe to the U.S. Federal District Court judge presiding over a case where two of their executives were found guilty on charges related to memory chip price-fixing. Kim revealed that the company had raised a large number of secret funds through bank accounts illegally opened under the names of up to 1,000 Samsung executives –  under his own name, four accounts were opened to manage 5 billion won.In 2010, Samsung announced a ten-year growth strategy centered around five businesses. One of these businesses was to be focused on biopharmaceuticals, to which has committed ₩2,100,000,000,000.In first quarter of 2012, Samsung Electronics became the world\\'s largest mobile phone maker by unit sales, overtaking Nokia, which had been the market leader since 1998.On 24 August 2012, nine American jurors ruled that Samsung Electronics had to pay Apple $1.05 billion in damages for violating six of its patents on smartphone technology. The award was still less than the $2.5 billion requested by Apple. The decision also ruled that Apple did not violate five Samsung patents cited in the case. Samsung decried the decision saying that the move could harm innovation in the sector. It also followed a South Korean ruling stating that both companies were guilty of infringing on each other\\'s intellectual property. In first trading after the ruling, Samsung shares on the KOSPI fell 7.7%, the largest fall since 24 October 2008, to 1,177,000 Korean won. Apple then sought to ban the sales of eight Samsung phones (Galaxy S 4G, Galaxy S2 AT&T, Galaxy S2 Skyrocket, Galaxy S2 T-Mobile, Galaxy S2 Epic 4G, Galaxy S Showcase, Droid Charge and Galaxy Prevail) in the United States which was denied by the court.As of 2013, the Fair Trade Commission of Taiwan is investigating Samsung and its local Taiwanese advertising agency for false advertising. The case was commenced after the commission received complaints stating that the agency hired students to attack competitors of Samsung Electronics in online forums. Samsung Taiwan made an announcement on its Facebook page in which it stated that it had not interfered with any evaluation report and had stopped online marketing campaigns that constituted posting or responding to content in online forums.In 2015, Samsung has been granted more U.S. patents than any other company – including IBM, Google, Sony, Microsoft and Apple. The company received 7,679 utility patents through 11 December.The Galaxy Note 7 smartphone went on sale on 19 August 2016. However, in early September 2016, Samsung suspended sales of the phone and announced an informal recall. This occurred after some units of the phones had batteries with a defect that caused them to produce excessive heat, leading to fires and explosions. Samsung replaced the recalled units of the phones with a new version; however, it was later discovered that the new version of the Galaxy Note 7 also had the battery defect. Samsung recalled all Galaxy Note 7 smartphones worldwide on 10 October 2016, and permanently ended production of the phone the following day.In 2018, Samsung launched the world\\'s largest mobile manufacturing facility in Noida, India, with guest of honour including Indian Prime Minister Narendra Modi.In 2023, Samsung announced its decision to reduce the production of memory chips. This action is on account of the company’s projected 96% decline in quarterly operating profit—from 2022’s 14 trillion won to 2023’s 600 billion won. The said drop can be attributed to the weak demand after COVID and a slowing global economy. Despite this decision, the company’s shares increased by more than 4%.\\n\\n\\n== Influence in South Korea ==\\nSamsung has a powerful influence on South Korea\\'s economic development, politics, media and culture and has been a major driving force behind the \"Miracle on the Han River\". Its affiliate companies produce around a fifth of South Korea\\'s total exports. Samsung\\'s revenue was equal to 17% of South Korea\\'s $1,082 billion GDP in 2013.\"You can even say the Samsung chairman is more powerful than the President of South Korea. [South] Korean people have come to think of Samsung as invincible and above the law\", said Woo Suk-hoon, host of a popular economics podcast in a Washington Post article headlined \"In South Korea, the Republic of Samsung\", published on 9 December 2012. Critics claimed that Samsung knocked out smaller businesses, limiting choices for South Korean consumers and sometimes colluded with fellow giants to fix prices while bullying those who investigate. Lee Jung-hee, a South Korean presidential candidate, said in a debate, \"Samsung has the government in its hands. Samsung manages the legal world, the press, the academics and bureaucracy\".\\n\\n\\n== Operations ==\\nSamsung comprises around 80 companies. Its activities include construction, consumer electronics, financial services, shipbuilding, and medical services, and two research and development stations that have allowed the chaebol to enter the industries of \"high-polymer chemicals, genetic engineering tools [and biotech as a whole], aerospace, and nanotechnology.\"As of April 2011, the Samsung Group comprised 59 unlisted companies and 19 listed companies, all of which had their primary listing on the Korea Exchange.In FY 2009, Samsung reported consolidated revenues of 220 trillion KRW ($172.5 billion). In FY 2010, Samsung reported consolidated revenues of 280 trillion KRW ($258 billion), and profits of 30 trillion KRW ($27.6 billion) based upon a KRW-USD exchange rate of 1,084.5 KRW per USD, the spot rate as of 19 August 2011. These amounts do not include the revenues from Samsung\\'s subsidiaries based outside South Korea.\\n\\n\\n=== Leadership ===\\nLee Byung-chul (1938–1966, 1968–1987)\\nLee Maeng-hee (1966–1968), Lee Byung-chul\\'s first son\\nLee Kun-hee (1987–2008, 2010–2020), Lee Byung-chul\\'s third son\\nLee Soo-bin (2008–2010)\\n\\n\\n=== Affiliates ===\\nSamsung Electronics is a multinational electronics and information technology company headquartered in Suwon and the flagship company of the Samsung Group. Its products include air conditioners, computers, digital television sets, active-matrix organic light-emitting diodes (AMOLEDs), mobile phones, display monitors, computer printers, refrigerators, semiconductors and telecommunications networking equipment.It was the world\\'s largest mobile phone maker by unit sales in the first quarter of 2012, with a global market share of 25.4%. It was also the world\\'s second-largest semiconductor maker by 2011 revenues (after Intel).Steco is the joint venture established between Samsung Electronics and Japan\\'s Toray Industries in 1995. Toshiba Samsung Storage Technology Corporation (TSST) is a joint venture between Samsung Electronics and Toshiba of Japan which specialises in optical disc drive manufacturing. TSST was formed in 2004, and Toshiba owns 51 per cent of its stock, while Samsung owns the remaining 49 per cent. Samsung Electronics is listed on the Korea Exchange stock market (number 005930).\\nSamsung Biologics is a biopharmaceutical division of Samsung, founded in 2011. It has contract development and manufacturing (CDMO) services including drug substance and product manufacturing and bioanalytical testing services. The company is headquartered in Incheon, South Korea and its existing three plants comprises the largest biologic contract manufacturing complex. It expanded its contract development service lab to San Francisco, U.S. Samsung Biologics is listed on the Korean Exchange stock market (number 207940). Samsung Bioepis is a biosimilar medicine producer and joint venture between Samsung Biologics (50 per cent plus one share) and the U.S.-based Biogen Idec (50 per cent). In 2014, Biogen Idec agreed to commercialize future anti-TNF biosimilar products in Europe through Samsung Bioepis.Samsung Engineering is a multinational construction company headquartered in Seoul. It was founded in January 1969. Its principal activity is the construction of oil refining plants; upstream oil and gas facilities; petrochemical plants and gas plants; steel making plants; power plants; water treatment facilities; and other infrastructure. It achieved total revenues of 9,298.2 billion won (US$8.06 billion) in 2011. Samsung Engineering is listed on the Korea Exchange stock market (number 02803450).\\nSamsung Fire & Marine Insurance is a multinational general insurance company headquartered in Seoul. It was founded in January 1952 as Korea Anbo Fire and Marine Insurance and was renamed Samsung Fire & Marine Insurance in December 1993. Samsung Fire & Marine Insurance offers services including accident insurance, automobile insurance, casualty insurance, fire insurance, liability insurance, marine insurance, personal pensions and loans. As of March 2011 it had operations in 10 countries and 6.5 million customers. Samsung Fire & Marine Insurance had a total premium income of $11.7 billion in 2011 and total assets of $28.81 billion on 31 March 2011. It is the largest provider of general insurance in South Korea. Samsung Fire has been listed on the Korea Exchange stock market since 1975 (number 000810).Samsung Heavy Industries is a shipbuilding and engineering company headquartered in Seoul. It was founded in August 1974. Its principal products are bulk carriers, container vessels, crude oil tankers, cruisers, passenger ferries, material handling equipment steel and bridge structures. It achieved total revenues of 13,358.6 billion won in 2011 and is the world\\'s second-largest shipbuilder by revenues (after Hyundai Heavy Industries). Samsung Heavy Industries is listed on the Korea Exchange stock market (number 010140).\\nSamsung Life Insurance is a multinational life insurance company headquartered in Seoul. It was founded in March 1957 as Dongbang Life Insurance and became an affiliate of the Samsung Group in July 1963. Samsung Life\\'s principal activity is the provision of individual life insurance and annuity products and services. As of December 2011 it had operations in seven countries, 8.08 million customers and 5,975 employees. Samsung Life had total sales of 22,717 billion won in 2011 and total assets of 161,072 billion won at 31 December 2011. It is the largest provider of life insurance in South Korea. Samsung Air China Life Insurance is a 50:50 joint venture between Samsung Life Insurance and China National Aviation Holding. It was established in Beijing in July 2005. Siam Samsung Life Insurance: Samsung Life Insurance holds a 37 per cent stake while the Saha Group also has a 37.5 per cent stake in the joint venture, with the remaining 25 per cent owned by Thanachart Bank. Samsung Life Insurance is listed on the Korea Exchange stock market (number 032830).\\nSamsung SDI is listed on the Korea Exchange stock-exchange (number 006400). On 5 December 2012, the European Union\\'s antitrust regulator fined Samsung SDI and several other major companies for fixing prices of TV cathode-ray tubes in two cartels lasting nearly a decade. SDI also builds lithium-ion batteries for electric vehicles such as the BMW i3, and acquired Magna Steyr\\'s battery plant near Graz in 2015. SDI began using the \"21700\" cell format in August 2015. Samsung plans to convert its factory in Göd, Hungary to supply 50,000 cars per year. Samsung SDI also produced CRTs and VFD displays until 2012. Samsung SDI uses lithium-ion technology for its phone and portable computer batteries.Samsung SDS is a multinational IT Service company headquartered in Seoul. It was founded in March 1985. Its principal activity is the providing IT system (ERP, IT Infrastructure, IT Consulting, IT Outsourcing, Data Center). Samsung SDS is Korea\\'s largest IT service company. It achieved total revenues of 6,105.9 billion won (US$5.71 billion) in 2012. Samsung C&T Corporation is listed on the Korea Exchange stock market (000830). Samsung Electro-Mechanics, established in 1973 as a manufacturer of key electronic components, is headquartered in Suwon, Gyeonggi Province, South Korea. It is listed on the Korea Exchange stock market (number 009150). Samsung Advanced Institute of Technology (SAIT), established in 1987, is headquartered in Suwon and operates research labs around the world.Ace Digitech is listed on the Korea Exchange stock market (number 036550). Cheil Industries is listed on the Korea Exchange stock market (number 001300). Cheil Worldwide is listed on the Korea Exchange stock market (number 030000). Credu is listed on the Korea Exchange stock market (number 067280). Imarket Korea is listed on the Korea Exchange stock market (number 122900). Samsung Card is listed on the Korea Exchange stock market (number 029780).\\nHotel Shilla (also known as \"The Shilla\") opened in March 1979, following the intention of the late Lee Byung-chul, the founder of the Samsung Group. Shilla Hotels and Resorts is listed on the Korea Exchange stock market (number 008770).Samsung C&T Corporation covers the three main sectors of Environment & Asset, Food Culture and Resort.\\nThe Samsung Medical Center was founded on 9 November 1994, under the philosophy of \"contributing to improving the nation\\'s health through the best medical service, advanced medical research and development of outstanding medical personnel\". The Samsung Medical Center consists of a hospital and a cancer center, which is the largest in Asia. The hospital is located in an intelligent building with floor space of more than 200,000 square meters and 20 floors above ground and 5 floors underground, housing 40 departments, 10 specialist centers, 120 special clinics and 1,306 beds. The 655-bed Cancer Center has 11 floors above ground and 8 floors underground, with floor space of over 100,000 square meters. SMC is a tertiary hospital manned by approximately 7,400 staff including over 1,200 doctors and 2,300 nurses. Since its foundation in the 1990s, the Samsung Medical Center has successfully incorporated and developed an advanced model with the motto of becoming a \"patient-centered hospital\", a new concept in Korea. Samsung donates around US$100 million per annum to the Samsung Medical Center. It incorporates Samsung Seoul Hospital, Kangbuk Samsung Hospital, Samsung Changwon Hospital, Samsung Cancer Center and Samsung Life Sciences Research Center. In 2010, the Samsung Medical Center and pharmaceutical multinational Pfizer agreed to collaborate on research to identify the genomic mechanisms responsible for clinical outcomes in hepatocellular carcinoma.\\n\\n\\t\\t\\t\\n\\t\\t\\t\\n\\t\\t\\n\\t\\t\\n\\t\\t\\t\\n\\t\\t\\t\\n\\t\\t\\n\\t\\t\\n\\t\\t\\t\\n\\t\\t\\t\\n\\t\\t\\n\\t\\t\\n\\t\\t\\t\\n\\t\\t\\t\\n\\t\\t\\n\\n\\n=== Divested ===\\nHanhwa Techwin was listed on the Korea Exchange stock-exchange (number 012450), with its principal activities being the development and manufacture of surveillance (including security cameras), aeronautics, optoelectronics, automations and weapons technology. It was announced to be sold to Hanwha Group in December 2014 and the take-over completed in June 2015. It was later renamed Hanwha Techwin.\\nSamsung Thales Co., Ltd. (until 2001 known as Samsung Thomson-CSF Co., Ltd., Currently owned by the Hanwha group) was a joint venture between Samsung Techwin and the France-based aerospace and defence company Thales. It was established in 1978 and is based in Seoul. Samsung\\'s involvement was passed on to Hanwha Group as part of the Techwin transaction.Samsung General Chemicals was sold to Hanwha. Another chemical division was sold to Lotte Corporation in 2016.Hanhwa Total was a 50/50 joint venture between Samsung and the France-based oil group TotalEnergies (more specifically, Samsung General Chemicals and Total Petrochemicals). Samsung\\'s stake was inherited by Hanwha Group in its acquisition of Samsung General Chemicals.\\n\\n\\n=== Defunct ===\\nIn 1998, Samsung created a U.S. joint venture with Compaq, called Alpha Processor Inc. (API), to help it enter the high-end processor market. The venture was also aimed at expanding Samsung\\'s non-memory chip business by fabricating DEC Alphas. At the time, Samsung and Compaq invested $500 million in Alpha Processor.GE Samsung Lighting was a joint venture between Samsung and the GE Lighting subsidiary of General Electric. The venture was established in 1998 and was broken up in 2009.Global Steel Exchange was a joint venture formed in 2000 between Samsung, the U.S.-based Cargill, the Switzerland-based Duferco Group, and the Luxembourg-based Tradearbed (now part of the ArcelorMittal), to handle their online buying and selling of steel.\\n\\nSamtron was a subsidiary of Samsung until 1999 when it became independent. After that, it continued to make computer monitors and plasma displays until 2003, Samtron became Samsung when Samtron was a brand. In 2003 the website redirected to Samsung.S-LCD Corporation was a joint venture between Samsung Electronics (50% plus one share) and the Japan-based Sony Corporation (50% minus one share) which was established in April 2004. On 26 December 2011, Samsung Electronics announced that it would acquire all of Sony\\'s shares in the venture.\\n\\n\\n=== Joint ventures ===\\nSamsung Fine Chemicals is listed on the Korea Exchange stock-exchange (number 004000).\\nSamsung Machine Tools of America is a national distributor of machines in the United States. Samsung GM Machine Tools is the head office of China, It is an SMEC Legal incorporated company.Samsung Securities is listed on the Korea Exchange stock-exchange (number 016360).S-1 was founded as Korea\\'s first specialized security business in 1997 and has maintained its position at the top of industry with the consistent willingness to take on challenges. S1 Corporation is listed on the Korea Exchange stock-exchange (number 012750.KS).State-run Korea Agro-Fisheries Trade Corp. set up the venture, aT Grain Co., in Chicago, with three other South Korean companies, Korea Agro-Fisheries owns 55 per cent of aT Grain, while Samsung C&T Corp, Hanjin Transportation Co. and STX Corporation each hold 15 per cent.Brooks Automation Asia Co., Ltd. is a joint venture between Brooks Automation (70%) and Samsung (30%) which was established in 1999. The venture locally manufactures and configure vacuum wafer handling platforms and 300mm Front-Opening Unified Pod (FOUP) load port modules, and designs, manufactures and configures atmospheric loading systems for flat panel displays.Company POSS – SLPC s.r.o. was founded in 2007 as a subsidiary of Samsung C & T Corporation, Samsung C & T Deutschland and the company POSCO.Samsung BP Chemicals, based in Ulsan, is a 49:51 joint venture between Samsung and the UK-based BP, which was established in 1989 to produce and supply high-value-added chemical products. Its products are used in rechargeable batteries and liquid crystal displays.Samsung Corning Precision Glass is a joint venture between Samsung and Corning, which was established in 1973 to manufacture and market cathode ray tube glass for black and white televisions. The company\\'s first LCD glass substrate manufacturing facility opened in Gumi, South Korea, in 1996.\\nSamsung Sumitomo LED Materials is a Korea-based joint venture between Samsung LED Co., Ltd., an LED maker based in Suwon, Korea-based and the Japan-based Sumitomo Chemical. The JV will carry out research and development, manufacturing and sales of sapphire substrates for LEDs.SD Flex Co., Ltd. was founded in October 2004 as a joint venture corporation by Samsung and DuPont, one of the world\\'s largest chemical companies.Sermatech Korea owns 51% of its stock, while Samsung owns the remaining 49%. The U.S. firm Sermatech International, for a business specializing in aircraft construction processes such as special welding and brazing.Siltronic Samsung Wafer Pte. Ltd, the joint venture by Samsung and wholly owned Wacker Chemie subsidiary Siltronic, was officially opened in Singapore in June 2008.SMP Ltd. is a joint venture between Samsung Fine Chemicals and MEMC. In 2011, MEMC Electronic Materials Inc. and an affiliate of Korean conglomerate Samsung formed a joint venture to build a polysilicon plant.Stemco is a joint venture established between Samsung Electro-Mechanics and Toray Industries in 1995.SB LiMotive is a 50:50 joint company of Robert Bosch GmbH (commonly known as Bosch) and Samsung SDI founded in June 2008. The joint venture develops and manufactures lithium-ion batteries for use in hybrid-, plug-in hybrid vehicles and electric vehicles.\\n\\n\\n=== Partially owned companies ===\\nSamsung Heavy Industries owns 10% of the Brazilian shipbuilder Atlântico Sul, whose Atlântico Sul Shipyard is the largest shipyard in South America. The Joao Candido, Brazil\\'s largest ship, was built by Atlântico Sul with technology licensed by Samsung Heavy Industries. The companies have a technical assistance agreement through which industrial design, vessel engineering and other know-how is being transferred to Atlântico Sul.Samsung Life Insurance currently holds a 7.4% stake in the South Korean banking company DGB Financial Group, making it the largest shareholder. DGB Financial Group is a Korea-based company that specialises in banking. The company is divided into six segments of operation and each segment\\'s primary source of funds come from general public deposits.Samsung acquired 7.4% of Gorilla Glass maker Corning, signing a long-term supply deal. Corning is an American company that is experienced in glass chemistry, ceramics science, and optical physics, as well as its manufacturing and engineering, to create goods that support industries and improve living standards. Corning is committed to long-term research and development.\\nSamsung Heavy Industries currently holds a 14.1% stake in Doosan Engine, making it the second-largest shareholder. Doosan Group is a South Korean company found in 1896 by Park Seung-jik. The company specializes in heavy industries and construction such as power plants and desalination plants.MEMC\\'s joint venture with Samsung Electronics Company, Ltd. In 1990, MEMC entered into a joint venture agreement to construct a silicon plant in Korea. MEMC Korea Company is a Korean manufacturer and distributor of electronic components, ingots, silicon wafers, and other products.\\nSamsung buys 10% stake in rival phone maker Pantech. Pantech is a South Korean company found in 1991. Pantech manufactures mobile phones and tablets. Pantech serves in many countries, including South Korea, United States, Japan, Europe, Vietnam, and China.\\nSamsung currently owns 4.19% of Rambus Incorporated. Rambus Incorporated is an American technology company found in 1990. The company specializes in producing electronic components such as licenses chip interface technologies and architectures used in digital electronic products.\\nSamsung currently owns 19.9% of the automobile manufacturer Renault Korea Motors. Renault Samsung Motors is a South Korean automotive company found in 1994. The company made car related transactions starting in 1998 and since have expanded into a range of cars and electric car models.\\nSamsung currently owns 9.6% of Seagate Technology, making it the second-largest shareholder. Under a shareholder agreement, Samsung has the right to nominate an executive to Seagate\\'s board of directors. Seagate Technology is an American company that works in the computer storage industry. Seagate Technology was found in 1979. The company is a major supplier of microcomputers and hard disks.\\nSamsung owns 3% of Sharp Corporation, a rival company to Samsung. Sharp Corporation is a Japanese company found in 1912. The company specializes in designing and manufacturing electronic products, such as phones, microwave ovens, and air conditioners.\\nSamsung Engineering holds a 10% stake in Sungjin Geotec, an offshore oil drilling company that is a subsidiary of POSCO. SungJin Geotec is a South Korean company found in 1989. The company specializes in manufacturing and developing offshore facilities, oil sand modules, petrochemical plant components, and desalination plants.Taylor Energy is an independent American oil company that drills in the Gulf of Mexico based in New Orleans, Louisiana. Samsung Oil & Gas USA Corp., subsidiaries of Samsung, currently owns 20% of Taylor Energy. Taylor Energy is an American oil and gas company found in 1979. The company works mainly in the oil drilling industry and drills in the Gulf of Mexico.\\n\\n\\n== Acquisitions and attempted acquisitions ==\\nSamsung has made the following acquisitions and attempted acquisitions:\\nSamsung Techwin acquired the German camera manufacturer Rollei in 1995. Samsung (Rollei) used its optic expertise on the crystals of a new line of 100% Swiss-made watches. But on 11 March 1995, the Cologne District court prohibited the advertising and sale of Rollei watches on German territory. In 1999, Rollei management bought out the company.Samsung lost a chance to revive its failed bid to take over Dutch aircraft maker Fokker when other airplane makers rejected its offer to form a consortium. The three proposed partners –  Hyundai, Hanjin and Daewoo –  notified the South Korean government that they would not join Samsung Aerospace Industries.Samsung bought a 40% stake in AST Research in 1995, in a failed attempt to break into the North American computer market. Samsung was forced to close the California-based computer maker following mass resignations of research staff and a string of losses.In 1995, Samsung\\'s textile department invested in FUBU, an American hip hop apparel company, after the founder placed an advertisement asking for funding in The New York Times newspaper.Samsung Securities Co., Ltd. and City of London-based N M Rothschild & Sons (more commonly known simply as Rothschild) have agreed to form a strategic alliance in investment banking business. Two parties will jointly work on cross-border mergers and acquisition deals.In December 2010, Samsung Electronics bought MEDISON Co., a South Korean medical-equipment company, the first step in a long-discussed plan to diversify from consumer electronics. Grandis Inc. – memory developer in July 2011, Samsung announced that it had acquired spin-transfer torque random access memory (MRAM) vendor Grandis Inc. Grandis will become a part of Samsung\\'s R&D operations and will focus on the development of next-generation random-access memory.On 26 December 2011, the board of Samsung Electronics approved a plan to buy Sony\\'s entire stake in their 2004 joint liquid-crystal display (LCD) venture for 1.08 trillion won ($938.97 million).On 9 May 2012, mSpot announced that it had been acquired by Samsung Electronics with the intention of a cloud-based music service. The succeeding service was Samsung Music Hub.\\nIn December 2012, Samsung announced that it had acquired the privately held storage software vendor NVELO, Inc., based in Santa Clara, California. NVELO will become part of Samsung\\'s R&D operations, and will focus on software for intelligently managing and optimizing next-generation Samsung SSD storage subsystems for consumer and enterprise computing platforms.\\nIn January 2013, Samsung announced that it has acquired medical imaging company NeuroLogica, part of the multinational conglomerate\\'s plans to build a leading medical technology business. Terms of the deal were not disclosed.On 14 August 2014, Samsung acquired SmartThings, a fast-growing home automation startup. The company did not release the acquisition price, but TechCrunch reported a $200 million price tag when it first caught word of the deal in July 2014.On 19 August 2014, Samsung said it had acquired U.S. air conditioner distributor Quietside LLC as part of its push to strengthen its \"smart home\" business. A Samsung Electronics spokesman said the South Korean company acquired 100 per cent of Quietside.On 3 November 2014, Samsung announced it had acquired Proximal Data, Inc., a San Diego, California-based pioneer of server-side caching software with I/O intelligence that work within virtualized systems.On 18 February 2015, Samsung acquired U.S.-based mobile payments firm LoopPay – This allows Samsung in smartphone transactions.On 5 March 2015, Samsung acquired small U.S.-based manufacturer of light-emitting diode displays, YESCO Electronics, which focuses on making digital billboards and message signs.On 5 October 2016, Samsung announced it had acquired Viv, a company working on artificial intelligence.On 15 November 2016, Samsung Canada announced it has acquired Rich Communications Services, a company working on a new technology for text messaging.\\n\\n\\n== Major clients ==\\nMajor clients of Samsung include:\\n\\nRoyal Dutch Shell\\nSamsung Heavy Industries will be the sole provider of liquefied natural gas (LNG) storage facilities worth up to US$50 billion to Royal Dutch Shell for the next 15 years.\\nShell unveiled plans to build the world\\'s first floating liquefied natural gas (FLNG) platform. In October 2012 at Samsung Heavy Industries\\' shipyard on Geoje Island in South Korea work started on a \"ship\" that, when finished and fully loaded, will weigh 600,000 tonnes, the world\\'s biggest \"ship\". That is six times larger than the largest U.S. aircraft carrier.\\n\\n\\n=== United Arab Emirates government ===\\nA consortium of South Korean firms, including Samsung, Korea Electric Power Corporation and Hyundai, won a deal worth $40 billion to build nuclear power plants in the United Arab Emirates.\\n\\n\\n=== Ontario government ===\\nThe government of the Canadian province of Ontario signed off one of the world\\'s largest renewable energy projects, signing a deal worth $6.6 billion for an additional 2,500 MW of new wind and solar energy. Under the agreement, a consortium led by Samsung and the Korea Electric Power Corporation will manage the development of 2,000 MW-worth of new wind farms and 500 MW of solar capacity, while also building a manufacturing supply chain in the province.\\n\\n\\n== Corporate image ==\\n\\n\\t\\t\\t\\n\\t\\t\\t\\n\\t\\t\\n\\t\\t\\n\\t\\t\\t\\n\\t\\t\\t\\n\\t\\t\\n\\t\\t\\n\\t\\t\\t\\n\\t\\t\\t\\n\\t\\t\\n\\t\\t\\n\\t\\t\\t\\n\\t\\t\\t\\n\\t\\t\\n\\t\\t\\n\\t\\t\\t\\n\\t\\t\\t\\n\\t\\t\\n\\t\\t\\n\\t\\t\\t\\n\\t\\t\\t\\n\\t\\t\\nThe basic color in the logo is blue, which Samsung has employed for years, supposedly symbolizing stability, reliability and corporate social responsibility.\\n\\n\\n=== Audio logo ===\\nSamsung has an audio logo, which consists of the notes E♭, A♭, D♭, E♭; after the initial E♭ tone it is up a perfect fourth to A♭, down a perfect fifth to D♭, then up a major second to return to the initial E♭ tone. The audio logo was produced by Musikvergnuegen and written by Walter Werzowa. This audio logo is discontinued as of 2015.\\n\\n\\n=== Font ===\\nIn 2014, Samsung unveiled its Samsung Sharp Sans font.In July 2016, Samsung unveiled its SamsungOne font, a typeface that hopes to give a consistent and universal visual identity to the wide range of Samsung products. SamsungOne was designed to be used across Samsung\\'s diverse device portfolio, with a focus on legibility for everything from smaller devices like smartphones to larger connected TVs or refrigerators, as well as Samsung marketing and advertisements. The font family supports 400 different languages through over 25,000 characters.\\n\\n\\n== Sponsorships ==\\n\\nSamsung Electronics spent an estimated $14 billion (U.S.) on advertising and marketing in 2013. At 5.4% of annual revenue, this is a larger proportion than any of the world\\'s top-20 companies by sales (Apple spent 0.6% and General Motors spent 3.5%). Samsung became the world\\'s biggest advertiser in 2012, spending $4.3 billion, compared to Apple\\'s $1 billion. Samsung\\'s global brand value of $39.6 billion is less than half that of Apple.\\n\\n\\n== Controversies ==\\n\\n\\n=== Labor abuses ===\\nSamsung was the subject of several complaints about child labor in its supply chain from 2012 to 2015.\\nIn July 2014, Samsung cut its contract with Shinyang Electronics after it received a complaint about the company violating child labor laws. Samsung says that its investigation turned up evidence of Shinyang using underage workers and that it severed relations immediately per its \"zero tolerance\" policy for child labor violations.\\nOne of Samsung\\'s Chinese supplier factories, HEG, was criticized for using underage workers by China Labor Watch (CLW) in July 2014. HEG denied the charges and has sued China Labor Watch. CLW issued a statement in August 2014 claiming that HEG employed over ten children under the age of 16 at a factory in Huizhou, Guangdong. The group said the youngest child identified was 14 years old. Samsung said that it conducted an onsite investigation of the production line that included one-on-one interviews but found no evidence of child labor being used. CLW responded that HEG had already dismissed the workers described in its statement before Samsung\\'s investigators arrived.CLW also claimed that HEG violated overtime rules for adult workers. CLW said a female college student was only paid her standard wage despite working four hours of overtime per day even though Chinese law requires overtime pay at 1.5 to 2.0 times standard wages.In 2020, the Australian Strategic Policy Institute accused at least 82 major brands, including Samsung, of being connected to forced Uyghur labor in Xinjiang.\\n\\n\\n=== Union-busting activity ===\\n\\nSamsung has a no-union policy and has been engaged in union-busting activities around the world. Samsung has also been sued by a union for stealing the corpse of a dead worker. On 6 May 2020, Samsung vice chairman Lee Jae-yong apologized for the union-busting scandals.\\n\\n\\n=== 2007 slush fund scandal ===\\nKim Yong-chul, the former head of the legal department at Samsung\\'s Restructuring Office, and Catholic Priests Association for Justice uncovered Lee Kun-hee\\'s slush fund on 29 October 2007. He presented a list of 30 artworks that the Lee family purchased with some of the slush funds, which were to be found in Samsung\\'s warehouse in south of Seoul, along with documents about bribes to prosecutors, judges and lawmakers, tax collectors with thousands of borrowed-named bank account.The court sentenced Lee Kun-hee to 3 years imprisonment, 5 years probation imprisonment, and fined him 11 billion won. But on 29 December 2009, the South Korean president Lee Myung-bak specially pardoned Lee, stating that the intent of the pardon was to allow Lee to remain on the International Olympic Committee. It is the only independent amnesty to have occurred in South Korean history.Kim Yong-chul published a book \\'Thinking about Samsung\\' in 2010. He wrote detailed accounts of Samsung\\'s behavior and how the company lobbied governmental authorities including the court officials, prosecutors and national tax service officials for transferring Samsung\\'s management rights to Lee Jae-yong.\\n\\n\\n=== Lee Kun-hee\\'s prostitution scandal ===\\nIn July 2016, the investigative journal KCIJ-Newstapa released a video of Samsung chairman Lee Kun-hee\\'s prostitution and alleged years long employment of female sex workers. On 12 April 2018, Supreme Court of Korea sentenced the former general manager of CJ CheilJedang, who filmed the prostitution video, to four years and six months in prison for blackmail and intimidation.\\n\\n\\n=== Supporting far-right groups ===\\nThe investigative team of special prosecutors looking into the 2016 South Korean political scandal announced that the Blue House received money from South Korea’s four largest chaebols (Samsung, Hyundai Motor Group, SK Group and LG Group) to fund pro-government demonstrations by conservative and far-right organizations such as the Korean Parent Federation (KPF) and the Moms Brigade.\\n\\n\\n=== Price fixing ===\\nOn 19 October 2011, Samsung companies were fined €145,727,000 for being part of a price cartel of ten companies for DRAMs which lasted from 1 July 1998 to 15 June 2002. The companies received, like most of the other members of the cartel, a 10% reduction for acknowledging the facts to investigators. Samsung had to pay 90% of their share of the settlement, but Micron avoided payment as a result of having initially revealed the case to investigators.In Canada, during 1999, some DRAM microchip manufacturers conspired to price fix, among the accused included Samsung. The price fix was investigated in 2002. A recession started to occur that year, and the price fix ended; however, in 2014, the Canadian government reopened the case and investigated silently. Sufficient evidence was found and presented to Samsung and two other manufacturers during a class action lawsuit hearing. The companies agreed upon a $120 million agreement, with $40 million as a fine, and $80 million to be paid back to Canadians who purchased a computer, printer, MP3 player, gaming console or camera from April 1999 to June 2002.\\n\\n\\n=== Misleading claims ===\\nIn Australia during 2022, Australia\\'s competition and consumer commission fined Samsung AU$14 million. The fine came due to misleading water resistance claims for over 3.1 million smartphones. The commission stated that during 2016–2018 the company advertised its Galaxy S7, S7 Edge, A5, A7, S8, S8 Plus and Note 8 devices as able to survive short immersion in water. However, after many user complaints about the devices having issues after water submersion, such as charger port corrosion. The ACC have officially labelled the fact these devices have \"water resistance\" listed as a feature misleading and proceeded with the fine.\\n\\n\\n== References ==\\n\\nSamsung Announces 2022 Neo QLED TV Line-Up Across Europe\\nBreaking the Rules with Samsung Galaxy Tab S8 Series: The Biggest, Boldest, Most Versatile Galaxy Tablet Ever\\n\\n\\n== External links ==\\n\\nOfficial website', start_char_idx=None, end_char_idx=None, text_template='{metadata_str}\\n\\n{content}', metadata_template='{key}: {value}', metadata_seperator='\\n'),\n",
       " Document(id_='3c971eb0-90fd-4a0c-8f9e-01e7a1d30331', embedding=None, metadata={}, excluded_embed_metadata_keys=[], excluded_llm_metadata_keys=[], relationships={}, hash='4433789e2d76bb5192218acf6abe99c08be7fa45f789572a8cf2e8cbe1dc6fba', text='A cookie (American English), or a biscuit (British English), is a baked or cooked snack or dessert that is typically small, flat and sweet. It usually contains flour, sugar, egg, and some type of oil, fat, or butter. It may include other ingredients such as raisins, oats, chocolate chips, nuts, etc.\\nMost English-speaking countries call crunchy cookies \"biscuits\", except for the United States and Canada, where \"biscuit\" refers to a type of quick bread. Chewier biscuits are sometimes called \"cookies\" even in the United Kingdom. Some cookies may also be named by their shape, such as date squares or bars.\\nBiscuit or cookie variants include sandwich biscuits, such as custard creams, Jammie Dodgers, Bourbons and Oreos, with marshmallow or jam filling and sometimes dipped in chocolate or another sweet coating. Cookies are often served with beverages such as milk, coffee or tea and sometimes dunked, an approach which releases more flavour from confections by dissolving the sugars, while also softening their texture. Factory-made cookies are sold in grocery stores, convenience stores and vending machines. Fresh-baked cookies are sold at bakeries and coffeehouses.\\n\\n\\n== Terminology ==\\nIn many English-speaking countries outside North America, including the United Kingdom, the most common word for a crisp cookie is \"biscuit\". The term \"cookie\" is normally used to describe chewier ones. However, in many regions both terms are used. The container used to store cookies may be called a cookie jar.\\nIn Scotland the term \"cookie\" is sometimes used to describe a plain bun.Cookies that are baked as a solid layer on a sheet pan and then cut, rather than being baked as individual pieces, are called in British English bar cookies or traybakes.\\n\\n\\n== Etymology ==\\nThe word cookie dates from at least 1701 in Scottish usage where the word meant \"plain bun\", rather than thin baked good, and so it is not certain whether it is the same word. From 1808, the word \"cookie\" is attested \"...in the sense of \"small, flat, sweet cake\" in American English. The American use is derived from Dutch koekje \"little cake,\"  which is a diminutive of \"koek\" (\"cake\"), which came from the Middle Dutch word \"koke\". Another claim is that the American name derives from the Dutch word koekje or more precisely its informal, dialect variant koekie which means little cake, and arrived in American English with the Dutch settlement of New Netherland, in the early 1600s.According to the Scottish National Dictionary, its Scottish name may derive from the diminutive form  (+ suffix -ie) of the word cook, giving the Middle Scots cookie, cooky or cu(c)kie. There was much trade and cultural contact across the North Sea between the Low Countries and Scotland during the Middle Ages, which can also be seen in the history of curling and, perhaps, golf.\\n\\n\\n== Description ==\\nCookies are most commonly baked until crisp or else for just long enough to ensure soft interior. Other types of cookies are not baked at all, such as varieties of peanut butter cookies that use solidified chocolate rather than set eggs and wheat gluten as a binder. Cookies are produced in a wide variety of styles, using an array of ingredients including sugars, spices, chocolate, butter, peanut butter, nuts, or dried fruits.\\nA general theory of cookies may be formulated in the following way. Despite its descent from cakes and other sweetened breads, the cookie in almost all its forms has abandoned water as a medium for cohesion. Water in cakes serves to make the batter as thin as possible, the better to allow bubbles—responsible for a cake\\'s fluffiness—to form. In the cookie the agent of cohesion has become some form of oil. Oils, whether in the form of butter, vegetable oils, or lard, are much more viscous than water and evaporate freely at a far higher temperature. Thus a cake made with butter or eggs in place of water is much denser after removal from the oven.\\nRather than evaporating as water does in a baking cake, oils in cookies remain. These oils saturate the cavities created during baking by bubbles of escaping gases. These gases are primarily composed of steam vaporized from the egg whites and the carbon dioxide released by heating the baking powder. This saturation produces the most texturally attractive feature of the cookie, and indeed all fried foods: crispness saturated with a moisture (namely oil) that does not render soggy the food it has soaked into.\\n\\n\\n== History ==\\nCookie-like hard wafers have existed for as long as baking is documented, in part because they survive travel very well, but they were usually not sweet enough to be considered cookies by modern standards.Cookies appear to have their origins in 7th century AD Persia, shortly after the use of sugar became relatively common in the region. They spread to Europe through the Muslim conquest of Spain. By the 14th century, they were common in all levels of society throughout Europe, from royal cuisine to street vendors. The first documented instance of the figure-shaped gingerbread man was at the court of Elizabeth I of England in the 16th century. She had the gingerbread figures made and presented in the likeness of some of her important guests.With global travel becoming widespread at that time, cookies made a natural travel companion, a modernized equivalent of the travel cakes used throughout history. One of the most popular early cookies, which traveled especially well and became known on every continent by similar names, was the jumble, a relatively hard cookie made largely from nuts, sweetener, and water.\\nCookies came to America through the Dutch in New Amsterdam in the late 1620s. The Dutch word \"koekje\" was Anglicized to \"cookie\" or cooky. The earliest reference to cookies in America is in 1703, when \"The Dutch in New York provided...\\'in 1703...at a funeral 800 cookies...\\'\"The most common modern cookie, given its style by the creaming of butter and sugar, was not common until the 18th century. The Industrial Revolution in Britain and the consumers it created saw cookies (biscuits) become products for the masses, and firms such as Huntley & Palmers (formed in 1822), McVitie\\'s (formed in 1830) and Carr\\'s (formed in 1831) were all established. The decorative biscuit tin, invented by Huntley & Palmers in 1831, saw British cookies exported around the world. In 1891, Cadbury filed a patent for a chocolate-coated cookie.\\n\\n\\n== Classification ==\\nCookies are broadly classified according to how they are formed or made, including at least these categories:\\n\\n Bar cookies consist of batter or other ingredients that are poured or pressed into a pan (sometimes in multiple layers) and cut into cookie-sized pieces after baking. In British English, bar cookies are known as \"tray bakes\". Examples include brownies, fruit squares, and bars such as date squares.\\nDrop cookies are made from a relatively soft dough that is dropped by spoonfuls onto the baking sheet. During baking, the mounds of dough spread and flatten. Chocolate chip cookies (Toll House cookies), oatmeal raisin (or other oatmeal-based) cookies, and rock cakes are popular examples of drop cookies. This may also include thumbprint cookies, for which a small central depression is created with a thumb or small spoon before baking to contain a filling, such as jam or a chocolate chip. In the UK, the term \"cookie\" often refers only to this particular type of product.\\nFilled cookies are made from a rolled cookie dough filled with a fruit, jam or confectionery filling before baking. Hamantashen are a filled cookie.\\nMolded cookies are also made from a stiffer dough that is molded into balls or cookie shapes by hand before baking. Snickerdoodles and peanut butter cookies are examples of molded cookies. Some cookies, such as hermits or biscotti, are molded into large flattened loaves that are later cut into smaller cookies.\\nNo-bake cookies are made by mixing a filler, such as cereal or nuts, into a melted confectionery binder, shaping into cookies or bars, and allowing to cool or harden. Oatmeal clusters and rum balls are no-bake cookies.\\nPressed cookies are made from a soft dough that is extruded from a cookie press into various decorative shapes before baking. Spritzgebäck is an example of a pressed cookie.\\nRefrigerator cookies (also known as icebox cookies) are made from a stiff dough that is refrigerated to make the raw dough even stiffer before cutting and baking. The dough is typically shaped into cylinders which are sliced into round cookies before baking. Pinwheel cookies and those made by Pillsbury are representative.\\nRolled cookies are made from a stiffer dough that is rolled out and cut into shapes with a cookie cutter. Gingerbread men are an example.\\nSandwich cookies are rolled or pressed cookies that are assembled as a sandwich with a sweet filling. Fillings include marshmallow, jam, and icing. The Oreo cookie, made of two chocolate cookies with a vanilla icing filling, is an example.Other types of cookies are classified for other reasons, such as their ingredients, size, or intended time of serving:\\n\\nBreakfast cookies are typically larger, lower-sugar cookies filled with \"heart-healthy nuts and fiber-rich oats\" that are eaten as a quick breakfast snack.\\nLow-fat cookies or diet cookies typically have lower fat than regular cookies.\\nRaw cookie dough is served in some restaurants, though the eggs may be omitted since the dough is eaten raw, which could pose a salmonella risk if eggs were used. Cookie Dough Confections in New York City is a restaurant that has a range of raw cookie dough flavors, which are scooped into cups for customers like ice cream.\\nSkillet cookies are big cookies that are cooked in a cast-iron skillet and served warm, while they are still soft and chewy. They are either eaten straight from the pan or cut into wedges, often with vanilla ice cream on top.\\nSupersized cookies are large cookies such as the Panera Kitchen Sink Cookie. These very large cookies are sold at grocery stores, restaurants and coffeeshops.\\nVegan cookies can be made with flour, sugar, nondairy milk and nondairy margarine. Aquafaba icing can used to decorate the cookies.\\nCookie cakes are made in a larger circular shape usually with writing made of frosting.\\n\\n\\n== Reception ==\\nLeah Ettman from Nutrition Action has criticized the high calorie count and fat content of supersized cookies, which are extra large cookies; she cites the Panera Kitchen Sink Cookie, a supersized chocolate chip cookie, which measures 5 1/2 inches in diameter and has 800 calories. For busy people who eat breakfast cookies in the morning, Kate Bratskeir from the Huffington Post recommends lower-sugar cookies filled with \"heart-healthy nuts and fiber-rich oats\". A book on nutrition by Paul Insel et al. notes that \"low-fat\" or \"diet cookies\" may have the same number of calories as regular cookies, due to added sugar.\\n\\n\\n== Popular culture ==\\nThere are a number of slang usages of the term \"cookie\". The slang use of \"cookie\" to mean a person, \"especially an attractive woman\" is attested to in print since 1920. The catchphrase \"that\\'s the way the cookie crumbles\", which means \"that\\'s just the way things happen\" is attested to in print in 1955. Other slang terms include \"smart cookie\" and \"tough cookie.\" According to The Cambridge International Dictionary of Idioms, a smart cookie is \"someone who is clever and good at dealing with difficult situations.\" The word \"cookie\" has been vulgar slang for \"vagina\" in the US since 1970. The word \"cookies\" is used to refer to the contents of the stomach, often in reference to vomiting (e.g., \"pop your cookies\" a 1960s expression, or \"toss your cookies\", a 1970s expression). The expression \"cookie cutter\", in addition to referring literally to a culinary device used to cut rolled cookie dough into shapes, is also used metaphorically to refer to items or things \"having the same configuration or look as many others\" (e.g., a \"cookie cutter tract house\") or to label something as \"stereotyped or formulaic\" (e.g., an action movie filled with \"generic cookie cutter characters\").\\n\"Cookie duster\" is a whimsical expression for a mustache.\\nCookie Monster is a Muppet on the children\\'s television show Sesame Street. He is best known for his voracious appetite for cookies and his famous eating phrases, such as \"Me want cookie!\", \"Me eat cookie!\" (or simply \"COOKIE!\"), and \"Om nom nom nom\" (said through a mouth full of food).Cookie Clicker is a game where you click a cookie.\\n\\n\\n== Notable varieties ==\\n\\n\\n== Gallery ==\\n\\n\\t\\t\\t\\n\\t\\t\\t\\n\\t\\t\\n\\t\\t\\n\\t\\t\\t\\n\\t\\t\\t\\n\\t\\t\\n\\t\\t\\n\\t\\t\\t\\n\\t\\t\\t\\n\\t\\t\\n\\t\\t\\n\\t\\t\\t\\n\\t\\t\\t\\n\\t\\t\\n\\t\\t\\n\\t\\t\\t\\n\\t\\t\\t\\n\\t\\t\\n\\t\\t\\n\\t\\t\\t\\n\\t\\t\\t\\n\\t\\t\\n\\t\\t\\n\\t\\t\\t\\n\\t\\t\\t\\n\\t\\t\\n\\t\\t\\n\\t\\t\\t\\n\\t\\t\\t\\n\\t\\t\\n\\t\\t\\n\\t\\t\\t\\n\\t\\t\\t\\n\\t\\t\\n\\t\\t\\n\\t\\t\\t\\n\\t\\t\\t\\n\\t\\t\\n\\t\\t\\n\\t\\t\\t\\n\\t\\t\\t\\n\\t\\t\\n\\t\\t\\n\\t\\t\\t\\n\\t\\t\\t\\n\\t\\t\\n\\t\\t\\n\\t\\t\\t\\n\\t\\t\\t\\n\\t\\t\\n\\t\\t\\n\\t\\t\\t\\n\\t\\t\\t\\n\\t\\t\\n\\n\\n== Related pastries and confections ==\\n\\n\\n== Manufacturers ==\\n\\n\\n== Product lines and brands ==\\n\\n\\n== Miscellaneous ==\\n\\n\\n== See also ==\\nDunking (biscuit)\\nList of baked goods\\nList of cookies\\nList of shortbread biscuits and cookies\\nList of desserts\\nCookie Clicker\\n\\n\\n== References ==\\n\\n\\n== Further reading ==\\nCumo, C. (2015). Foods that Changed History. ABC-CLIO. pp. 115–117. ISBN 978-1-4408-3537-7.\\n\\n\\n== External links ==\\n The dictionary definition of cookie at Wiktionary', start_char_idx=None, end_char_idx=None, text_template='{metadata_str}\\n\\n{content}', metadata_template='{key}: {value}', metadata_seperator='\\n')]"
      ]
     },
     "metadata": {},
     "output_type": "display_data"
    }
   ],
   "source": [
    "from llama_index import download_loader\n",
    "\n",
    "WikipediaReader = download_loader(\"WikipediaReader\")\n",
    "\n",
    "# Create a reader for Wikipedia articles\n",
    "loader = WikipediaReader()\n",
    "wikidocs = loader.load_data(pages=['Samsui', 'Coolie'])\n",
    "\n",
    "display(wikidocs)\n"
   ]
  },
  {
   "cell_type": "code",
   "execution_count": null,
   "metadata": {},
   "outputs": [],
   "source": []
  }
 ],
 "metadata": {
  "kernelspec": {
   "display_name": ".venv",
   "language": "python",
   "name": "python3"
  },
  "language_info": {
   "codemirror_mode": {
    "name": "ipython",
    "version": 3
   },
   "file_extension": ".py",
   "mimetype": "text/x-python",
   "name": "python",
   "nbconvert_exporter": "python",
   "pygments_lexer": "ipython3",
   "version": "3.10.3"
  }
 },
 "nbformat": 4,
 "nbformat_minor": 2
}
